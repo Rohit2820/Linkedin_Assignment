{
 "cells": [
  {
   "cell_type": "markdown",
   "id": "dc0a31db",
   "metadata": {},
   "source": [
    "# Importing all the neccessary libraries :"
   ]
  },
  {
   "cell_type": "code",
   "execution_count": 1,
   "id": "02d5ff9a",
   "metadata": {},
   "outputs": [],
   "source": [
    "from selenium import webdriver\n",
    "from selenium.webdriver.common.keys import Keys\n",
    "from selenium.webdriver.support.ui import Select\n",
    "import time\n",
    "import pandas as pd\n",
    "website=\"https://in.linkedin.com/\""
   ]
  },
  {
   "cell_type": "markdown",
   "id": "78b89903",
   "metadata": {},
   "source": [
    "# Defining the function to extract Data:"
   ]
  },
  {
   "cell_type": "markdown",
   "id": "fb79d7ec",
   "metadata": {},
   "source": [
    "  Automation"
   ]
  },
  {
   "cell_type": "code",
   "execution_count": 2,
   "id": "8cccba4a",
   "metadata": {},
   "outputs": [],
   "source": [
    "driver=webdriver.Chrome()\n",
    "driver.get(website)"
   ]
  },
  {
   "cell_type": "markdown",
   "id": "c5513a35",
   "metadata": {},
   "source": [
    "Get the email input field from the sign in page"
   ]
  },
  {
   "cell_type": "code",
   "execution_count": 3,
   "id": "cb105d9b",
   "metadata": {},
   "outputs": [],
   "source": [
    "email=driver.find_element('xpath','//*[@id=\"session_key\"]')\n",
    "email.send_keys(\" \") ##  Enter your email id here  ##"
   ]
  },
  {
   "cell_type": "markdown",
   "id": "7941c77a",
   "metadata": {},
   "source": [
    "Getting the password input field"
   ]
  },
  {
   "cell_type": "code",
   "execution_count": 4,
   "id": "17c2333d",
   "metadata": {},
   "outputs": [],
   "source": [
    "password=driver.find_element(\"id\",'session_password')\n",
    "password.send_keys(\" \")  ## Enter your linkedin password here\n"
   ]
  },
  {
   "cell_type": "markdown",
   "id": "3b9a215f",
   "metadata": {},
   "source": [
    "signing into linkedin accout"
   ]
  },
  {
   "cell_type": "code",
   "execution_count": 5,
   "id": "27bcb796",
   "metadata": {},
   "outputs": [],
   "source": [
    "signing_in=driver.find_element('xpath',\"//button[@data-id='sign-in-form__submit-btn']\")\n",
    "signing_in.click()\n",
    "time.sleep(2)"
   ]
  },
  {
   "cell_type": "markdown",
   "id": "f919f471",
   "metadata": {},
   "source": [
    "getting the searchbox of linkedin"
   ]
  },
  {
   "cell_type": "code",
   "execution_count": 6,
   "id": "f7e4a36b",
   "metadata": {},
   "outputs": [
    {
     "ename": "NoSuchElementException",
     "evalue": "Message: no such element: Unable to locate element: {\"method\":\"xpath\",\"selector\":\"//input[@aria-label=\"Search\"]\"}\n  (Session info: chrome=115.0.5790.102); For documentation on this error, please visit: https://www.selenium.dev/documentation/webdriver/troubleshooting/errors#no-such-element-exception\nStacktrace:\nBacktrace:\n\tGetHandleVerifier [0x00007FF6F85D3E62+57250]\n\t(No symbol) [0x00007FF6F854BC02]\n\t(No symbol) [0x00007FF6F841E0BB]\n\t(No symbol) [0x00007FF6F845765E]\n\t(No symbol) [0x00007FF6F845774C]\n\t(No symbol) [0x00007FF6F8490267]\n\t(No symbol) [0x00007FF6F84767EF]\n\t(No symbol) [0x00007FF6F848E312]\n\t(No symbol) [0x00007FF6F8476583]\n\t(No symbol) [0x00007FF6F844CC71]\n\t(No symbol) [0x00007FF6F844DE54]\n\tGetHandleVerifier [0x00007FF6F8884CF2+2879026]\n\tGetHandleVerifier [0x00007FF6F88D6F30+3215472]\n\tGetHandleVerifier [0x00007FF6F88CFD4F+3186319]\n\tGetHandleVerifier [0x00007FF6F8665505+652869]\n\t(No symbol) [0x00007FF6F8557518]\n\t(No symbol) [0x00007FF6F85535F4]\n\t(No symbol) [0x00007FF6F85536EC]\n\t(No symbol) [0x00007FF6F85438E3]\n\tBaseThreadInitThunk [0x00007FFABCCD26AD+29]\n\tRtlUserThreadStart [0x00007FFABDCAAA68+40]\n",
     "output_type": "error",
     "traceback": [
      "\u001b[1;31m---------------------------------------------------------------------------\u001b[0m",
      "\u001b[1;31mNoSuchElementException\u001b[0m                    Traceback (most recent call last)",
      "Cell \u001b[1;32mIn[6], line 1\u001b[0m\n\u001b[1;32m----> 1\u001b[0m search_box\u001b[38;5;241m=\u001b[39m\u001b[43mdriver\u001b[49m\u001b[38;5;241;43m.\u001b[39;49m\u001b[43mfind_element\u001b[49m\u001b[43m(\u001b[49m\u001b[38;5;124;43m\"\u001b[39;49m\u001b[38;5;124;43mxpath\u001b[39;49m\u001b[38;5;124;43m\"\u001b[39;49m\u001b[43m,\u001b[49m\u001b[38;5;124;43m'\u001b[39;49m\u001b[38;5;124;43m//input[@aria-label=\u001b[39;49m\u001b[38;5;124;43m\"\u001b[39;49m\u001b[38;5;124;43mSearch\u001b[39;49m\u001b[38;5;124;43m\"\u001b[39;49m\u001b[38;5;124;43m]\u001b[39;49m\u001b[38;5;124;43m'\u001b[39;49m\u001b[43m)\u001b[49m\n\u001b[0;32m      2\u001b[0m firstname\u001b[38;5;241m=\u001b[39m\u001b[38;5;124m'\u001b[39m\u001b[38;5;124mRohit\u001b[39m\u001b[38;5;124m'\u001b[39m\n\u001b[0;32m      3\u001b[0m lastname\u001b[38;5;241m=\u001b[39m\u001b[38;5;124m'\u001b[39m\u001b[38;5;124mSharma\u001b[39m\u001b[38;5;124m'\u001b[39m\n",
      "File \u001b[1;32m~\\anaconda3\\lib\\site-packages\\selenium\\webdriver\\remote\\webdriver.py:740\u001b[0m, in \u001b[0;36mWebDriver.find_element\u001b[1;34m(self, by, value)\u001b[0m\n\u001b[0;32m    737\u001b[0m     by \u001b[38;5;241m=\u001b[39m By\u001b[38;5;241m.\u001b[39mCSS_SELECTOR\n\u001b[0;32m    738\u001b[0m     value \u001b[38;5;241m=\u001b[39m \u001b[38;5;124mf\u001b[39m\u001b[38;5;124m'\u001b[39m\u001b[38;5;124m[name=\u001b[39m\u001b[38;5;124m\"\u001b[39m\u001b[38;5;132;01m{\u001b[39;00mvalue\u001b[38;5;132;01m}\u001b[39;00m\u001b[38;5;124m\"\u001b[39m\u001b[38;5;124m]\u001b[39m\u001b[38;5;124m'\u001b[39m\n\u001b[1;32m--> 740\u001b[0m \u001b[38;5;28;01mreturn\u001b[39;00m \u001b[38;5;28;43mself\u001b[39;49m\u001b[38;5;241;43m.\u001b[39;49m\u001b[43mexecute\u001b[49m\u001b[43m(\u001b[49m\u001b[43mCommand\u001b[49m\u001b[38;5;241;43m.\u001b[39;49m\u001b[43mFIND_ELEMENT\u001b[49m\u001b[43m,\u001b[49m\u001b[43m \u001b[49m\u001b[43m{\u001b[49m\u001b[38;5;124;43m\"\u001b[39;49m\u001b[38;5;124;43musing\u001b[39;49m\u001b[38;5;124;43m\"\u001b[39;49m\u001b[43m:\u001b[49m\u001b[43m \u001b[49m\u001b[43mby\u001b[49m\u001b[43m,\u001b[49m\u001b[43m \u001b[49m\u001b[38;5;124;43m\"\u001b[39;49m\u001b[38;5;124;43mvalue\u001b[39;49m\u001b[38;5;124;43m\"\u001b[39;49m\u001b[43m:\u001b[49m\u001b[43m \u001b[49m\u001b[43mvalue\u001b[49m\u001b[43m}\u001b[49m\u001b[43m)\u001b[49m[\u001b[38;5;124m\"\u001b[39m\u001b[38;5;124mvalue\u001b[39m\u001b[38;5;124m\"\u001b[39m]\n",
      "File \u001b[1;32m~\\anaconda3\\lib\\site-packages\\selenium\\webdriver\\remote\\webdriver.py:346\u001b[0m, in \u001b[0;36mWebDriver.execute\u001b[1;34m(self, driver_command, params)\u001b[0m\n\u001b[0;32m    344\u001b[0m response \u001b[38;5;241m=\u001b[39m \u001b[38;5;28mself\u001b[39m\u001b[38;5;241m.\u001b[39mcommand_executor\u001b[38;5;241m.\u001b[39mexecute(driver_command, params)\n\u001b[0;32m    345\u001b[0m \u001b[38;5;28;01mif\u001b[39;00m response:\n\u001b[1;32m--> 346\u001b[0m     \u001b[38;5;28;43mself\u001b[39;49m\u001b[38;5;241;43m.\u001b[39;49m\u001b[43merror_handler\u001b[49m\u001b[38;5;241;43m.\u001b[39;49m\u001b[43mcheck_response\u001b[49m\u001b[43m(\u001b[49m\u001b[43mresponse\u001b[49m\u001b[43m)\u001b[49m\n\u001b[0;32m    347\u001b[0m     response[\u001b[38;5;124m\"\u001b[39m\u001b[38;5;124mvalue\u001b[39m\u001b[38;5;124m\"\u001b[39m] \u001b[38;5;241m=\u001b[39m \u001b[38;5;28mself\u001b[39m\u001b[38;5;241m.\u001b[39m_unwrap_value(response\u001b[38;5;241m.\u001b[39mget(\u001b[38;5;124m\"\u001b[39m\u001b[38;5;124mvalue\u001b[39m\u001b[38;5;124m\"\u001b[39m, \u001b[38;5;28;01mNone\u001b[39;00m))\n\u001b[0;32m    348\u001b[0m     \u001b[38;5;28;01mreturn\u001b[39;00m response\n",
      "File \u001b[1;32m~\\anaconda3\\lib\\site-packages\\selenium\\webdriver\\remote\\errorhandler.py:245\u001b[0m, in \u001b[0;36mErrorHandler.check_response\u001b[1;34m(self, response)\u001b[0m\n\u001b[0;32m    243\u001b[0m         alert_text \u001b[38;5;241m=\u001b[39m value[\u001b[38;5;124m\"\u001b[39m\u001b[38;5;124malert\u001b[39m\u001b[38;5;124m\"\u001b[39m]\u001b[38;5;241m.\u001b[39mget(\u001b[38;5;124m\"\u001b[39m\u001b[38;5;124mtext\u001b[39m\u001b[38;5;124m\"\u001b[39m)\n\u001b[0;32m    244\u001b[0m     \u001b[38;5;28;01mraise\u001b[39;00m exception_class(message, screen, stacktrace, alert_text)  \u001b[38;5;66;03m# type: ignore[call-arg]  # mypy is not smart enough here\u001b[39;00m\n\u001b[1;32m--> 245\u001b[0m \u001b[38;5;28;01mraise\u001b[39;00m exception_class(message, screen, stacktrace)\n",
      "\u001b[1;31mNoSuchElementException\u001b[0m: Message: no such element: Unable to locate element: {\"method\":\"xpath\",\"selector\":\"//input[@aria-label=\"Search\"]\"}\n  (Session info: chrome=115.0.5790.102); For documentation on this error, please visit: https://www.selenium.dev/documentation/webdriver/troubleshooting/errors#no-such-element-exception\nStacktrace:\nBacktrace:\n\tGetHandleVerifier [0x00007FF6F85D3E62+57250]\n\t(No symbol) [0x00007FF6F854BC02]\n\t(No symbol) [0x00007FF6F841E0BB]\n\t(No symbol) [0x00007FF6F845765E]\n\t(No symbol) [0x00007FF6F845774C]\n\t(No symbol) [0x00007FF6F8490267]\n\t(No symbol) [0x00007FF6F84767EF]\n\t(No symbol) [0x00007FF6F848E312]\n\t(No symbol) [0x00007FF6F8476583]\n\t(No symbol) [0x00007FF6F844CC71]\n\t(No symbol) [0x00007FF6F844DE54]\n\tGetHandleVerifier [0x00007FF6F8884CF2+2879026]\n\tGetHandleVerifier [0x00007FF6F88D6F30+3215472]\n\tGetHandleVerifier [0x00007FF6F88CFD4F+3186319]\n\tGetHandleVerifier [0x00007FF6F8665505+652869]\n\t(No symbol) [0x00007FF6F8557518]\n\t(No symbol) [0x00007FF6F85535F4]\n\t(No symbol) [0x00007FF6F85536EC]\n\t(No symbol) [0x00007FF6F85438E3]\n\tBaseThreadInitThunk [0x00007FFABCCD26AD+29]\n\tRtlUserThreadStart [0x00007FFABDCAAA68+40]\n"
     ]
    }
   ],
   "source": [
    "search_box=driver.find_element(\"xpath\",'//input[@aria-label=\"Search\"]')\n",
    "firstname='Rohit'\n",
    "lastname='Sharma'\n",
    "search_box.send_keys(firstname,' ',lastname)\n",
    "search_box.send_keys(u'\\ue007')\n",
    "\n"
   ]
  },
  {
   "cell_type": "code",
   "execution_count": null,
   "id": "2b4cc798",
   "metadata": {},
   "outputs": [],
   "source": [
    "time.sleep(7)\n",
    "people_btn= driver.find_element('xpath','//*[@id=\"search-reusables__filters-bar\"]/ul/li[1]/button')\n",
    "people_btn.click()\n",
    "\n"
   ]
  },
  {
   "cell_type": "markdown",
   "id": "7b2fd70f",
   "metadata": {},
   "source": [
    "# Extracting Information from the linkedin search results"
   ]
  },
  {
   "cell_type": "markdown",
   "id": "443463ce",
   "metadata": {},
   "source": [
    "Extracting Names"
   ]
  },
  {
   "cell_type": "code",
   "execution_count": null,
   "id": "a7b6ce97",
   "metadata": {},
   "outputs": [],
   "source": [
    "time.sleep(2)\n",
    "name_list=[]\n",
    "Names=driver.find_elements('xpath','//span[@dir=\"ltr\"]')\n",
    "for name in Names:\n",
    "    name_list.append(name.text)\n",
    "name_list "
   ]
  },
  {
   "cell_type": "markdown",
   "id": "2b1a6792",
   "metadata": {},
   "source": [
    "Extracting about information"
   ]
  },
  {
   "cell_type": "code",
   "execution_count": null,
   "id": "f25a534b",
   "metadata": {},
   "outputs": [],
   "source": [
    "about_list=[]\n",
    "about=driver.find_elements(\"css selector\",\".entity-result__primary-subtitle\")\n",
    "for te in about:\n",
    "    about_list.append(te.text)"
   ]
  },
  {
   "cell_type": "code",
   "execution_count": null,
   "id": "27471f4f",
   "metadata": {},
   "outputs": [],
   "source": [
    "about_list"
   ]
  },
  {
   "cell_type": "markdown",
   "id": "8b823d9d",
   "metadata": {},
   "source": [
    "Extracting location information"
   ]
  },
  {
   "cell_type": "code",
   "execution_count": null,
   "id": "15310d12",
   "metadata": {},
   "outputs": [],
   "source": [
    "loc_list=[]\n",
    "location=driver.find_elements('css selector','.entity-result__secondary-subtitle')\n",
    "for loc in location:\n",
    "    loc_list.append(loc.text)\n"
   ]
  },
  {
   "cell_type": "code",
   "execution_count": null,
   "id": "b221624f",
   "metadata": {},
   "outputs": [],
   "source": [
    "loc_list"
   ]
  },
  {
   "cell_type": "markdown",
   "id": "ce9c15f0",
   "metadata": {},
   "source": [
    "Extracting mutual connection information"
   ]
  },
  {
   "cell_type": "code",
   "execution_count": null,
   "id": "6144feb5",
   "metadata": {},
   "outputs": [],
   "source": [
    "mutual_list=[]\n",
    "connection=driver.find_elements('css selector','.reusable-search-simple-insight')\n",
    "for conn in connection:\n",
    "    mutual_list.append(conn.text)"
   ]
  },
  {
   "cell_type": "code",
   "execution_count": null,
   "id": "60bfeb83",
   "metadata": {},
   "outputs": [],
   "source": [
    "mutual_list"
   ]
  },
  {
   "cell_type": "markdown",
   "id": "dec5e2b3",
   "metadata": {},
   "source": [
    "# creating a dictionary of all the lists"
   ]
  },
  {
   "cell_type": "code",
   "execution_count": null,
   "id": "1a9e74fd",
   "metadata": {},
   "outputs": [],
   "source": [
    "new_dict={\n",
    "    \"Full Names\": name_list,\n",
    "     \"About\":about_list,\n",
    "     \"Locations\":loc_list,\n",
    "    \"Mutual Connections\":mutual_list\n",
    "}"
   ]
  },
  {
   "cell_type": "markdown",
   "id": "675df059",
   "metadata": {},
   "source": [
    "# creating a dataframe from the dictionary"
   ]
  },
  {
   "cell_type": "code",
   "execution_count": null,
   "id": "3802055c",
   "metadata": {},
   "outputs": [],
   "source": [
    "df=pd.DataFrame(new_dict)\n"
   ]
  },
  {
   "cell_type": "code",
   "execution_count": null,
   "id": "54adb311",
   "metadata": {},
   "outputs": [],
   "source": [
    "import csv"
   ]
  },
  {
   "cell_type": "code",
   "execution_count": null,
   "id": "2ce866ec",
   "metadata": {},
   "outputs": [],
   "source": [
    "excel_filename = f\"{firstname}_{lastname}_profiles.xlsx\""
   ]
  },
  {
   "cell_type": "markdown",
   "id": "bd5bf958",
   "metadata": {},
   "source": [
    "# Extracting all data in excel file"
   ]
  },
  {
   "cell_type": "code",
   "execution_count": null,
   "id": "3ba624bb",
   "metadata": {},
   "outputs": [],
   "source": [
    "df.to_excel(excel_filename,index=False)"
   ]
  },
  {
   "cell_type": "code",
   "execution_count": null,
   "id": "5177e0ef",
   "metadata": {},
   "outputs": [],
   "source": []
  }
 ],
 "metadata": {
  "kernelspec": {
   "display_name": "Python 3 (ipykernel)",
   "language": "python",
   "name": "python3"
  },
  "language_info": {
   "codemirror_mode": {
    "name": "ipython",
    "version": 3
   },
   "file_extension": ".py",
   "mimetype": "text/x-python",
   "name": "python",
   "nbconvert_exporter": "python",
   "pygments_lexer": "ipython3",
   "version": "3.10.9"
  }
 },
 "nbformat": 4,
 "nbformat_minor": 5
}
